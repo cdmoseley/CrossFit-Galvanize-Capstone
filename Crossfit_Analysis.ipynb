{
 "cells": [
  {
   "cell_type": "code",
   "execution_count": 2,
   "metadata": {},
   "outputs": [],
   "source": [
    "from bs4 import BeautifulSoup\n",
    "from datetime import time\n",
    "from datetime import datetime\n",
    "from datetime import timedelta\n",
    "from collections import Counter\n",
    "import json\n",
    "import requests\n",
    "import csv\n",
    "import pandas as pd\n",
    "import numpy as np\n",
    "import aiohttp\n",
    "import asyncio\n",
    "import concurrent.futures\n",
    "import io\n",
    "import re"
   ]
  },
  {
   "cell_type": "code",
   "execution_count": 3,
   "metadata": {},
   "outputs": [
    {
     "name": "stderr",
     "output_type": "stream",
     "text": [
      "/var/folders/xm/kc32pwjj5fj5xqf43yb4dz340000gn/T/ipykernel_14964/781522481.py:1: DtypeWarning: Columns (0) have mixed types. Specify dtype option on import or set low_memory=False.\n",
      "  Crossfit_Men = pd.read_csv('/Users/cdmoseley/dai_files/Capstone/Galvanize_Capstone_Crossfit/Data/Analysis_Data/Crossfit_Men.csv')\n"
     ]
    },
    {
     "name": "stdout",
     "output_type": "stream",
     "text": [
      "<class 'pandas.core.frame.DataFrame'>\n",
      "RangeIndex: 176260 entries, 0 to 176259\n",
      "Data columns (total 46 columns):\n",
      " #   Column                   Non-Null Count   Dtype  \n",
      "---  ------                   --------------   -----  \n",
      " 0   Athlete ID               176259 non-null  object \n",
      " 1   Gender                   176255 non-null  object \n",
      " 2   Competitor Name          176254 non-null  object \n",
      " 3   Country Name             175672 non-null  object \n",
      " 4   Region Name              176255 non-null  object \n",
      " 5   Affiliate Name           155236 non-null  object \n",
      " 6   Height (in)              89684 non-null   float64\n",
      " 7   Age (Years)              176255 non-null  float64\n",
      " 8   Weight (lbs)             89451 non-null   float64\n",
      " 9   Overall Rank             176255 non-null  float64\n",
      " 10  24.1 Rank                176255 non-null  float64\n",
      " 11  24.2 Rank                176255 non-null  float64\n",
      " 12  24.3 Rank                176255 non-null  float64\n",
      " 13  2024 Rank                176257 non-null  float64\n",
      " 14  2023 Rank                96307 non-null   float64\n",
      " 15  2022 Rank                68845 non-null   float64\n",
      " 16  2021 Rank                50372 non-null   float64\n",
      " 17  2020 Rank                38145 non-null   float64\n",
      " 18  2019 Rank                41144 non-null   float64\n",
      " 19  2018 Rank                36627 non-null   float64\n",
      " 20  2017 Rank                28870 non-null   float64\n",
      " 21  2016 Rank                15935 non-null   float64\n",
      " 22  2015 Rank                11414 non-null   float64\n",
      " 23  2014 Rank                8039 non-null    float64\n",
      " 24  2013 Rank                4608 non-null    float64\n",
      " 25  2012 Rank                2203 non-null    float64\n",
      " 26  2011 Rank                1108 non-null    float64\n",
      " 27  Back Squat (lbs)         54445 non-null   float64\n",
      " 28  Deadlift (lbs)           55796 non-null   float64\n",
      " 29  Clean and Jerk (lbs)     49939 non-null   float64\n",
      " 30  Snatch (lbs)             46846 non-null   float64\n",
      " 31  Fight Gone Bad (# reps)  9567 non-null    float64\n",
      " 32  Filthy 50 (time)         5713 non-null    object \n",
      " 33  Filthy 50 (sec)          5713 non-null    float64\n",
      " 34  Fran (time)              24150 non-null   object \n",
      " 35  Fran (sec)               24150 non-null   float64\n",
      " 36  Grace (time)             17483 non-null   object \n",
      " 37  Grace (sec)              17483 non-null   float64\n",
      " 38  Helen (time)             14085 non-null   object \n",
      " 39  Helen (sec)              14085 non-null   float64\n",
      " 40  L1 Benchmark (time)      607 non-null     object \n",
      " 41  L1 Benchmark (sec)       607 non-null     float64\n",
      " 42  Run 5k (time)            22822 non-null   object \n",
      " 43  Run 5k (sec)             22822 non-null   float64\n",
      " 44  Sprint 400m (time)       11136 non-null   object \n",
      " 45  Sprint 400m (sec)        11136 non-null   float64\n",
      "dtypes: float64(33), object(13)\n",
      "memory usage: 61.9+ MB\n"
     ]
    }
   ],
   "source": [
    "Crossfit_Men = pd.read_csv('/Users/cdmoseley/dai_files/Capstone/Galvanize_Capstone_Crossfit/Data/Analysis_Data/Crossfit_Men.csv')\n",
    "Crossfit_Men.info()"
   ]
  },
  {
   "cell_type": "code",
   "execution_count": 13,
   "metadata": {},
   "outputs": [
    {
     "data": {
      "text/plain": [
       "425.0"
      ]
     },
     "execution_count": 13,
     "metadata": {},
     "output_type": "execute_result"
    }
   ],
   "source": [
    "Crossfit_Men['Snatch (lbs)'].max()"
   ]
  }
 ],
 "metadata": {
  "kernelspec": {
   "display_name": "base",
   "language": "python",
   "name": "python3"
  },
  "language_info": {
   "codemirror_mode": {
    "name": "ipython",
    "version": 3
   },
   "file_extension": ".py",
   "mimetype": "text/x-python",
   "name": "python",
   "nbconvert_exporter": "python",
   "pygments_lexer": "ipython3",
   "version": "3.11.5"
  }
 },
 "nbformat": 4,
 "nbformat_minor": 2
}
